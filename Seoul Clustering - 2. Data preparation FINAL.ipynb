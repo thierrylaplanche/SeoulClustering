{
 "cells": [
  {
   "cell_type": "markdown",
   "metadata": {},
   "source": [
    "# Seoul Restaurants Clustering"
   ]
  },
  {
   "cell_type": "markdown",
   "metadata": {},
   "source": [
    "## Part 2 : Data preparation"
   ]
  },
  {
   "cell_type": "markdown",
   "metadata": {},
   "source": [
    "In this part, we will prepare the data we collected in the first part."
   ]
  },
  {
   "cell_type": "code",
   "execution_count": 18,
   "metadata": {},
   "outputs": [],
   "source": [
    "# Import libraries\n",
    "import pandas as pd # library for data analsysis\n",
    "import numpy as np # library to handle data in a vectorized manner\n",
    "import folium # map rendering library\n",
    "from folium.plugins import FastMarkerCluster, MarkerCluster\n",
    "from sklearn.cluster import KMeans\n",
    "from yellowbrick.cluster import KElbowVisualizer\n",
    "import json"
   ]
  },
  {
   "cell_type": "code",
   "execution_count": 19,
   "metadata": {},
   "outputs": [],
   "source": [
    "# Load data from the file we saved in the first part into a data frame\n",
    "df_venues = pd.read_pickle('restaurants_list.pkl')"
   ]
  },
  {
   "cell_type": "code",
   "execution_count": 20,
   "metadata": {},
   "outputs": [
    {
     "data": {
      "text/html": [
       "<div>\n",
       "<style scoped>\n",
       "    .dataframe tbody tr th:only-of-type {\n",
       "        vertical-align: middle;\n",
       "    }\n",
       "\n",
       "    .dataframe tbody tr th {\n",
       "        vertical-align: top;\n",
       "    }\n",
       "\n",
       "    .dataframe thead th {\n",
       "        text-align: right;\n",
       "    }\n",
       "</style>\n",
       "<table border=\"1\" class=\"dataframe\">\n",
       "  <thead>\n",
       "    <tr style=\"text-align: right;\">\n",
       "      <th></th>\n",
       "      <th>Id</th>\n",
       "      <th>Name</th>\n",
       "      <th>Category</th>\n",
       "      <th>Address</th>\n",
       "      <th>Latitude</th>\n",
       "      <th>Longitude</th>\n",
       "      <th>District</th>\n",
       "      <th>Neighbourhood Legal</th>\n",
       "      <th>Neighbourhood Admin</th>\n",
       "    </tr>\n",
       "  </thead>\n",
       "  <tbody>\n",
       "    <tr>\n",
       "      <th>0</th>\n",
       "      <td>5b83cf2cc0cacb002c0bd030</td>\n",
       "      <td>인기명</td>\n",
       "      <td>Seafood Restaurant</td>\n",
       "      <td>None</td>\n",
       "      <td>37.538245</td>\n",
       "      <td>126.947835</td>\n",
       "      <td>마포구</td>\n",
       "      <td>도화동</td>\n",
       "      <td>도화동</td>\n",
       "    </tr>\n",
       "    <tr>\n",
       "      <th>1</th>\n",
       "      <td>5dc62e31e42b4c000735f531</td>\n",
       "      <td>Nal,See (날,See)</td>\n",
       "      <td>Sandwich Place</td>\n",
       "      <td>증산로21길 16</td>\n",
       "      <td>37.596088</td>\n",
       "      <td>126.913109</td>\n",
       "      <td>은평구</td>\n",
       "      <td>신사동</td>\n",
       "      <td>신사1동</td>\n",
       "    </tr>\n",
       "    <tr>\n",
       "      <th>2</th>\n",
       "      <td>5d7e19bed13342000856212d</td>\n",
       "      <td>핵도그</td>\n",
       "      <td>Hot Dog Joint</td>\n",
       "      <td>보문로 99 영광빌딩 1층</td>\n",
       "      <td>37.583890</td>\n",
       "      <td>127.019922</td>\n",
       "      <td>성북구</td>\n",
       "      <td>보문동5가</td>\n",
       "      <td>보문동</td>\n",
       "    </tr>\n",
       "    <tr>\n",
       "      <th>3</th>\n",
       "      <td>4ddca1eab0fba481fc8678e4</td>\n",
       "      <td>한우목장</td>\n",
       "      <td>Steakhouse</td>\n",
       "      <td>None</td>\n",
       "      <td>37.606292</td>\n",
       "      <td>127.061433</td>\n",
       "      <td>성북구</td>\n",
       "      <td>석관동</td>\n",
       "      <td>석관동</td>\n",
       "    </tr>\n",
       "    <tr>\n",
       "      <th>4</th>\n",
       "      <td>4eaa7d8d49015844898445d0</td>\n",
       "      <td>풍년 닭도리탕</td>\n",
       "      <td>Korean Restaurant</td>\n",
       "      <td>중구 세종대로11길 30</td>\n",
       "      <td>37.563080</td>\n",
       "      <td>126.977783</td>\n",
       "      <td>중구</td>\n",
       "      <td>북창동</td>\n",
       "      <td>소공동</td>\n",
       "    </tr>\n",
       "  </tbody>\n",
       "</table>\n",
       "</div>"
      ],
      "text/plain": [
       "                         Id             Name            Category  \\\n",
       "0  5b83cf2cc0cacb002c0bd030              인기명  Seafood Restaurant   \n",
       "1  5dc62e31e42b4c000735f531  Nal,See (날,See)      Sandwich Place   \n",
       "2  5d7e19bed13342000856212d              핵도그       Hot Dog Joint   \n",
       "3  4ddca1eab0fba481fc8678e4             한우목장          Steakhouse   \n",
       "4  4eaa7d8d49015844898445d0          풍년 닭도리탕   Korean Restaurant   \n",
       "\n",
       "          Address   Latitude   Longitude District Neighbourhood Legal  \\\n",
       "0            None  37.538245  126.947835      마포구                 도화동   \n",
       "1       증산로21길 16  37.596088  126.913109      은평구                 신사동   \n",
       "2  보문로 99 영광빌딩 1층  37.583890  127.019922      성북구               보문동5가   \n",
       "3            None  37.606292  127.061433      성북구                 석관동   \n",
       "4   중구 세종대로11길 30  37.563080  126.977783       중구                 북창동   \n",
       "\n",
       "  Neighbourhood Admin  \n",
       "0                 도화동  \n",
       "1                신사1동  \n",
       "2                 보문동  \n",
       "3                 석관동  \n",
       "4                 소공동  "
      ]
     },
     "execution_count": 20,
     "metadata": {},
     "output_type": "execute_result"
    }
   ],
   "source": [
    "df_venues.head()"
   ]
  },
  {
   "cell_type": "code",
   "execution_count": 21,
   "metadata": {},
   "outputs": [
    {
     "data": {
      "text/plain": [
       "array(['마포구', '은평구', '성북구', '중구', '영등포구', '서대문구', '중랑구', '종로구', '동대문구',\n",
       "       '양천구', '서초구', '동작구', '용산구', '강동구', '성동구', '송파구', '노원구', '강서구',\n",
       "       '강남구', '구로구', '강북구', '광진구', '금천구', '도봉구', '관악구', '과천시', '성남시 수정구',\n",
       "       '부천시'], dtype=object)"
      ]
     },
     "execution_count": 21,
     "metadata": {},
     "output_type": "execute_result"
    }
   ],
   "source": [
    "# Let's check the list of districts\n",
    "df_venues['District'].unique()"
   ]
  },
  {
   "cell_type": "code",
   "execution_count": 22,
   "metadata": {},
   "outputs": [],
   "source": [
    "# We can see that the last 3 values are actually not districts of Seoul.\n",
    "# They are towns around the capital. Let's delete those from the data set\n",
    "to_keep  = [i not in ['과천시','성남시 수정구','부천시'] for i in df_venues['District']]\n",
    "df_venues = df_venues[to_keep]"
   ]
  },
  {
   "cell_type": "code",
   "execution_count": 23,
   "metadata": {},
   "outputs": [
    {
     "data": {
      "text/plain": [
       "25"
      ]
     },
     "execution_count": 23,
     "metadata": {},
     "output_type": "execute_result"
    }
   ],
   "source": [
    "# Let's check that we now have 25 districts, which is the total number of districts in Seoul\n",
    "df_venues['District'].nunique()"
   ]
  },
  {
   "cell_type": "code",
   "execution_count": 24,
   "metadata": {},
   "outputs": [
    {
     "data": {
      "text/plain": [
       "150"
      ]
     },
     "execution_count": 24,
     "metadata": {},
     "output_type": "execute_result"
    }
   ],
   "source": [
    "# How many unique categories (types of cuisine) do we have in our data frame?\n",
    "df_venues['Category'].nunique()"
   ]
  },
  {
   "cell_type": "code",
   "execution_count": 25,
   "metadata": {},
   "outputs": [
    {
     "data": {
      "text/html": [
       "<div>\n",
       "<style scoped>\n",
       "    .dataframe tbody tr th:only-of-type {\n",
       "        vertical-align: middle;\n",
       "    }\n",
       "\n",
       "    .dataframe tbody tr th {\n",
       "        vertical-align: top;\n",
       "    }\n",
       "\n",
       "    .dataframe thead th {\n",
       "        text-align: right;\n",
       "    }\n",
       "</style>\n",
       "<table border=\"1\" class=\"dataframe\">\n",
       "  <thead>\n",
       "    <tr style=\"text-align: right;\">\n",
       "      <th></th>\n",
       "      <th>Id</th>\n",
       "    </tr>\n",
       "    <tr>\n",
       "      <th>Category</th>\n",
       "      <th></th>\n",
       "    </tr>\n",
       "  </thead>\n",
       "  <tbody>\n",
       "    <tr>\n",
       "      <th>Korean Restaurant</th>\n",
       "      <td>3362</td>\n",
       "    </tr>\n",
       "    <tr>\n",
       "      <th>Café</th>\n",
       "      <td>1903</td>\n",
       "    </tr>\n",
       "    <tr>\n",
       "      <th>Coffee Shop</th>\n",
       "      <td>1424</td>\n",
       "    </tr>\n",
       "    <tr>\n",
       "      <th>BBQ Joint</th>\n",
       "      <td>953</td>\n",
       "    </tr>\n",
       "    <tr>\n",
       "      <th>Bakery</th>\n",
       "      <td>674</td>\n",
       "    </tr>\n",
       "  </tbody>\n",
       "</table>\n",
       "</div>"
      ],
      "text/plain": [
       "                     Id\n",
       "Category               \n",
       "Korean Restaurant  3362\n",
       "Café               1903\n",
       "Coffee Shop        1424\n",
       "BBQ Joint           953\n",
       "Bakery              674"
      ]
     },
     "execution_count": 25,
     "metadata": {},
     "output_type": "execute_result"
    }
   ],
   "source": [
    "# Let's see the most common types of cuisine we have in our results\n",
    "df_venues.groupby('Category').count()[['Id']].sort_values(by=['Id'], ascending=False).head()"
   ]
  },
  {
   "cell_type": "code",
   "execution_count": 26,
   "metadata": {},
   "outputs": [
    {
     "data": {
      "text/html": [
       "<div>\n",
       "<style scoped>\n",
       "    .dataframe tbody tr th:only-of-type {\n",
       "        vertical-align: middle;\n",
       "    }\n",
       "\n",
       "    .dataframe tbody tr th {\n",
       "        vertical-align: top;\n",
       "    }\n",
       "\n",
       "    .dataframe thead th {\n",
       "        text-align: right;\n",
       "    }\n",
       "</style>\n",
       "<table border=\"1\" class=\"dataframe\">\n",
       "  <thead>\n",
       "    <tr style=\"text-align: right;\">\n",
       "      <th></th>\n",
       "      <th>Id</th>\n",
       "    </tr>\n",
       "    <tr>\n",
       "      <th>Category</th>\n",
       "      <th></th>\n",
       "    </tr>\n",
       "  </thead>\n",
       "  <tbody>\n",
       "    <tr>\n",
       "      <th>African Restaurant</th>\n",
       "      <td>1</td>\n",
       "    </tr>\n",
       "    <tr>\n",
       "      <th>Design Studio</th>\n",
       "      <td>1</td>\n",
       "    </tr>\n",
       "    <tr>\n",
       "      <th>Eastern European Restaurant</th>\n",
       "      <td>1</td>\n",
       "    </tr>\n",
       "    <tr>\n",
       "      <th>English Restaurant</th>\n",
       "      <td>1</td>\n",
       "    </tr>\n",
       "    <tr>\n",
       "      <th>Event Space</th>\n",
       "      <td>1</td>\n",
       "    </tr>\n",
       "  </tbody>\n",
       "</table>\n",
       "</div>"
      ],
      "text/plain": [
       "                             Id\n",
       "Category                       \n",
       "African Restaurant            1\n",
       "Design Studio                 1\n",
       "Eastern European Restaurant   1\n",
       "English Restaurant            1\n",
       "Event Space                   1"
      ]
     },
     "execution_count": 26,
     "metadata": {},
     "output_type": "execute_result"
    }
   ],
   "source": [
    "# Let's see the least common types of cuisine we have in our results\n",
    "df_venues.groupby('Category').count()[['Id']].sort_values(by=['Id']).head()"
   ]
  },
  {
   "cell_type": "code",
   "execution_count": 13,
   "metadata": {},
   "outputs": [],
   "source": [
    "# It looks like the Foursquare API returned some garbage\n",
    "# Let's clean it up by removing venues that belong to categories for which we have only a few venues - we will set this threshold to 3)\n",
    "venue_cat_count = df_venues['Category'].value_counts()\n",
    "threshold  = [i not in set(venue_cat_count[venue_cat_count<3].index) for i in df_venues['Category']]\n",
    "df_venues = df_venues[threshold]"
   ]
  },
  {
   "cell_type": "code",
   "execution_count": 14,
   "metadata": {},
   "outputs": [
    {
     "data": {
      "text/plain": [
       "99"
      ]
     },
     "execution_count": 14,
     "metadata": {},
     "output_type": "execute_result"
    }
   ],
   "source": [
    "# How many types of cuisine do we have now?\n",
    "df_venues['Category'].nunique()"
   ]
  },
  {
   "cell_type": "code",
   "execution_count": 500,
   "metadata": {},
   "outputs": [
    {
     "data": {
      "text/html": [
       "<div>\n",
       "<style scoped>\n",
       "    .dataframe tbody tr th:only-of-type {\n",
       "        vertical-align: middle;\n",
       "    }\n",
       "\n",
       "    .dataframe tbody tr th {\n",
       "        vertical-align: top;\n",
       "    }\n",
       "\n",
       "    .dataframe thead th {\n",
       "        text-align: right;\n",
       "    }\n",
       "</style>\n",
       "<table border=\"1\" class=\"dataframe\">\n",
       "  <thead>\n",
       "    <tr style=\"text-align: right;\">\n",
       "      <th></th>\n",
       "      <th>Id</th>\n",
       "    </tr>\n",
       "    <tr>\n",
       "      <th>Category</th>\n",
       "      <th></th>\n",
       "    </tr>\n",
       "  </thead>\n",
       "  <tbody>\n",
       "    <tr>\n",
       "      <th>Indonesian Restaurant</th>\n",
       "      <td>3</td>\n",
       "    </tr>\n",
       "    <tr>\n",
       "      <th>Halal Restaurant</th>\n",
       "      <td>3</td>\n",
       "    </tr>\n",
       "    <tr>\n",
       "      <th>Mongolian Restaurant</th>\n",
       "      <td>3</td>\n",
       "    </tr>\n",
       "    <tr>\n",
       "      <th>Scandinavian Restaurant</th>\n",
       "      <td>3</td>\n",
       "    </tr>\n",
       "    <tr>\n",
       "      <th>Theme Restaurant</th>\n",
       "      <td>3</td>\n",
       "    </tr>\n",
       "  </tbody>\n",
       "</table>\n",
       "</div>"
      ],
      "text/plain": [
       "                         Id\n",
       "Category                   \n",
       "Indonesian Restaurant     3\n",
       "Halal Restaurant          3\n",
       "Mongolian Restaurant      3\n",
       "Scandinavian Restaurant   3\n",
       "Theme Restaurant          3"
      ]
     },
     "execution_count": 500,
     "metadata": {},
     "output_type": "execute_result"
    }
   ],
   "source": [
    "# And the least common types of cuisine are :\n",
    "df_venues.groupby('Category').count()[['Id']].sort_values(by=['Id']).head()"
   ]
  },
  {
   "cell_type": "code",
   "execution_count": 502,
   "metadata": {},
   "outputs": [],
   "source": [
    "# Save data frame to a file\n",
    "df_venues.to_pickle('restaurants_list_prepared.pkl')"
   ]
  }
 ],
 "metadata": {
  "kernelspec": {
   "display_name": "Python 3",
   "language": "python",
   "name": "python3"
  },
  "language_info": {
   "codemirror_mode": {
    "name": "ipython",
    "version": 3
   },
   "file_extension": ".py",
   "mimetype": "text/x-python",
   "name": "python",
   "nbconvert_exporter": "python",
   "pygments_lexer": "ipython3",
   "version": "3.7.4"
  }
 },
 "nbformat": 4,
 "nbformat_minor": 4
}
